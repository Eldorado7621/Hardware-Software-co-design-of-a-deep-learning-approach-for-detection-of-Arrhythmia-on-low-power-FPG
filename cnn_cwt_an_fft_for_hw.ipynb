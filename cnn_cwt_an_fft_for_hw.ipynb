{
  "cells": [
    {
      "cell_type": "markdown",
      "metadata": {
        "id": "view-in-github",
        "colab_type": "text"
      },
      "source": [
        "<a href=\"https://colab.research.google.com/github/Eldorado7621/Hardware-Software-co-design-of-a-deep-learning-approach-for-detection-of-Arrhythmia-on-low-power-FPG/blob/main/cnn_cwt_an_fft_for_hw.ipynb\" target=\"_parent\"><img src=\"https://colab.research.google.com/assets/colab-badge.svg\" alt=\"Open In Colab\"/></a>"
      ]
    },
    {
      "cell_type": "code",
      "execution_count": null,
      "metadata": {
        "colab": {
          "base_uri": "https://localhost:8080/"
        },
        "id": "NxnffWQLH1Fx",
        "outputId": "df07a776-916f-4551-e9d3-2d0b18084de7"
      },
      "outputs": [
        {
          "output_type": "stream",
          "name": "stdout",
          "text": [
            "Looking in indexes: https://pypi.org/simple, https://us-python.pkg.dev/colab-wheels/public/simple/\n",
            "Collecting tsaug\n",
            "  Downloading tsaug-0.2.1-py3-none-any.whl (32 kB)\n",
            "Requirement already satisfied: numpy>=1.14 in /usr/local/lib/python3.7/dist-packages (from tsaug) (1.21.6)\n",
            "Requirement already satisfied: scipy>=1.1 in /usr/local/lib/python3.7/dist-packages (from tsaug) (1.7.3)\n",
            "Installing collected packages: tsaug\n",
            "Successfully installed tsaug-0.2.1\n"
          ]
        }
      ],
      "source": [
        "pip install tsaug"
      ]
    },
    {
      "cell_type": "code",
      "execution_count": null,
      "metadata": {
        "id": "exBH8hjJH1Fw"
      },
      "outputs": [],
      "source": [
        "import numpy as np\n",
        "\n",
        "from keras import optimizers, losses, activations, models\n",
        "from keras.callbacks import ModelCheckpoint, EarlyStopping, LearningRateScheduler, ReduceLROnPlateau\n",
        "from keras.layers import Dense, Input, Dropout, Conv1D, Conv2D, MaxPool1D, GlobalMaxPool1D, MaxPool2D, GlobalMaxPool2D, Flatten, concatenate, Add, ReLU, Activation, BatchNormalization\n",
        "from sklearn.metrics import f1_score, accuracy_score\n",
        "from sklearn.metrics import confusion_matrix, ConfusionMatrixDisplay\n",
        "import tensorflow as tf\n",
        "\n",
        "from scipy import signal\n",
        "\n",
        "from tsaug import TimeWarp, Crop, Quantize, Drift, Reverse\n",
        "\n",
        "import pickle\n",
        "import pywt\n",
        "import matplotlib.pyplot as plt\n",
        "\n",
        "import math"
      ]
    },
    {
      "cell_type": "code",
      "execution_count": null,
      "metadata": {
        "colab": {
          "base_uri": "https://localhost:8080/"
        },
        "id": "tzECqoHsIlY-",
        "outputId": "bc319270-3d49-43ba-d954-236a69beec23"
      },
      "outputs": [
        {
          "output_type": "stream",
          "name": "stdout",
          "text": [
            "Mounted at /content/drive\n"
          ]
        }
      ],
      "source": [
        "from google.colab import drive\n",
        "drive.mount('/content/drive')"
      ]
    },
    {
      "cell_type": "code",
      "execution_count": null,
      "metadata": {
        "id": "jhYMp7dcH1Fy"
      },
      "outputs": [],
      "source": [
        "\n",
        "with open('drive/MyDrive/inputs_4class/inp_sig.pkl','rb') as f:\n",
        "    X_all = pickle.load(f)\n",
        "with open('drive/MyDrive/inputs_4class/labels.pkl','rb') as f:\n",
        "    Y_all = pickle.load(f)"
      ]
    },
    {
      "cell_type": "markdown",
      "metadata": {
        "id": "-uyB05tkklQj"
      },
      "source": []
    },
    {
      "cell_type": "code",
      "execution_count": null,
      "metadata": {
        "id": "-9iklyBaH1Fy"
      },
      "outputs": [],
      "source": [
        "Y_all = np.reshape(Y_all, ((Y_all.shape[0],1)))\n",
        "\n",
        "all_data = np.concatenate((X_all,Y_all),axis=1)\n",
        "np.random.shuffle(all_data)\n",
        "\n",
        "indx_label4 = np.where(all_data[:,600] == 4)[0]\n",
        "all_data = np.delete(all_data, indx_label4, 0)\n",
        "\n",
        "###### 80% for train, 20% for test #########\n",
        "sz = all_data.shape[0]\n",
        "\n",
        "sz_08 = int(sz * 0.8)"
      ]
    },
    {
      "cell_type": "code",
      "execution_count": null,
      "metadata": {
        "id": "3YId_Vs4H1Fy"
      },
      "outputs": [],
      "source": [
        "X_train_init = all_data[:sz_08,:600]\n",
        "Y_train_init = all_data[:sz_08,600]\n",
        "\n",
        "X_test_init = all_data[sz_08:,:600]\n",
        "Y_test_init = all_data[sz_08:,600]\n",
        "\n",
        "X_train_resamp = signal.resample(X_train_init, 128, axis=1)\n",
        "X_test_resamp  = signal.resample(X_test_init, 128, axis=1)\n",
        "\n",
        "del X_test_init\n",
        "del X_train_init"
      ]
    },
    {
      "cell_type": "code",
      "source": [
        "X_test_resamp[19]"
      ],
      "metadata": {
        "colab": {
          "base_uri": "https://localhost:8080/"
        },
        "id": "I6YvD1aBREiK",
        "outputId": "c38e52f0-d745-4318-8bd3-3745ce27eab9"
      },
      "execution_count": null,
      "outputs": [
        {
          "output_type": "execute_result",
          "data": {
            "text/plain": [
              "array([-1.91687270e-02, -9.22563385e-02, -1.38220480e-01, -2.19474776e-01,\n",
              "       -2.48736207e-01, -2.57146230e-01, -3.00333233e-01, -2.76902057e-01,\n",
              "       -3.09712054e-01, -3.03604623e-01, -2.78108085e-01, -2.86834106e-01,\n",
              "       -2.84476558e-01, -2.91025935e-01, -3.33566443e-01, -3.21417182e-01,\n",
              "       -3.43626498e-01, -3.16897381e-01, -3.00003598e-01, -2.81076217e-01,\n",
              "       -3.14078565e-01, -3.06125001e-01, -3.11395445e-01, -2.84961863e-01,\n",
              "       -3.01319447e-01, -2.91390861e-01, -3.08075454e-01, -2.80456906e-01,\n",
              "       -2.84874034e-01, -3.04270040e-01, -2.84161758e-01, -2.69421099e-01,\n",
              "       -2.84299199e-01, -2.09337563e-01, -4.51794239e-02,  4.53100370e-01,\n",
              "       -4.33004812e-03, -6.20892170e-01, -4.68037012e-01, -4.90600523e-01,\n",
              "       -3.94612863e-01, -4.64958588e-01, -4.22890883e-01, -2.99594039e-01,\n",
              "       -2.58982431e-01, -2.82897321e-01, -2.54304980e-01, -2.80375284e-01,\n",
              "       -2.30404897e-01, -2.58858334e-01, -2.28766259e-01, -2.01841775e-01,\n",
              "       -1.94223474e-01, -1.50871046e-01, -1.31334270e-01, -6.87714107e-02,\n",
              "       -5.67010753e-04,  1.51267988e-03,  4.01846988e-02, -3.34619527e-04,\n",
              "       -6.03238124e-02, -1.41598229e-01, -1.96482965e-01, -2.34992023e-01,\n",
              "       -2.47145631e-01, -3.00418731e-01, -2.72770458e-01, -3.13220711e-01,\n",
              "       -2.64396480e-01, -3.28995847e-01, -1.14415692e-01,  2.49016848e-02,\n",
              "       -1.28878570e-02,  8.29046979e-03, -5.90868052e-03,  4.47130296e-03,\n",
              "       -3.52022537e-03,  2.85112306e-03, -2.35945524e-03,  1.98632433e-03,\n",
              "       -1.69608737e-03,  1.46594911e-03, -1.28067559e-03,  1.12971483e-03,\n",
              "       -1.00553731e-03,  9.02633959e-04, -8.16886948e-04,  7.45161093e-04,\n",
              "       -6.85030821e-04,  6.34593046e-04, -5.92336061e-04,  5.57045873e-04,\n",
              "       -5.27738088e-04,  5.03607620e-04, -4.83991010e-04,  4.68337846e-04,\n",
              "       -4.56188830e-04,  4.47158773e-04, -4.40923278e-04,  4.37208237e-04,\n",
              "       -4.35781484e-04,  4.36446112e-04, -4.39035123e-04,  4.43407117e-04,\n",
              "       -4.49442846e-04,  4.57042478e-04, -4.66123479e-04,  4.76619062e-04,\n",
              "       -4.88477192e-04,  5.01660178e-04, -5.16144983e-04,  5.31924446e-04,\n",
              "       -5.49009800e-04,  5.67435121e-04, -5.87264804e-04,  6.08605976e-04,\n",
              "       -6.31629235e-04,  6.56603983e-04, -6.83960277e-04,  7.14401089e-04,\n",
              "       -7.49115286e-04,  7.90204632e-04, -8.41600970e-04,  9.11218323e-04,\n",
              "       -1.01663103e-03,  1.20272027e-03, -1.61191796e-03,  2.91593272e-03])"
            ]
          },
          "metadata": {},
          "execution_count": 41
        }
      ]
    },
    {
      "cell_type": "code",
      "source": [
        "Y_test_init[19]"
      ],
      "metadata": {
        "colab": {
          "base_uri": "https://localhost:8080/"
        },
        "id": "xCuG7odgSDoh",
        "outputId": "1ebf5d7d-bfce-4f43-e64d-ad42d09e124d"
      },
      "execution_count": null,
      "outputs": [
        {
          "output_type": "execute_result",
          "data": {
            "text/plain": [
              "1.0"
            ]
          },
          "metadata": {},
          "execution_count": 40
        }
      ]
    },
    {
      "cell_type": "code",
      "source": [
        "for i in range(1000):\n",
        "  if(Y_test_init[i]!=0.0):\n",
        "    print(\"index %d value %d\"%(i,Y_test_init[i] ))"
      ],
      "metadata": {
        "colab": {
          "base_uri": "https://localhost:8080/"
        },
        "id": "YQ6-4zkbX35n",
        "outputId": "e75eb980-6319-4422-d603-a05d4be5a40f"
      },
      "execution_count": null,
      "outputs": [
        {
          "output_type": "stream",
          "name": "stdout",
          "text": [
            "index 12 value 2\n",
            "index 19 value 1\n",
            "index 30 value 2\n",
            "index 31 value 1\n",
            "index 35 value 3\n",
            "index 36 value 1\n",
            "index 47 value 2\n",
            "index 83 value 2\n",
            "index 115 value 3\n",
            "index 128 value 2\n",
            "index 144 value 1\n",
            "index 154 value 3\n",
            "index 173 value 1\n",
            "index 183 value 1\n",
            "index 201 value 3\n",
            "index 206 value 1\n",
            "index 239 value 1\n",
            "index 247 value 2\n",
            "index 248 value 1\n",
            "index 250 value 1\n",
            "index 252 value 3\n",
            "index 282 value 2\n",
            "index 319 value 1\n",
            "index 366 value 2\n",
            "index 384 value 2\n",
            "index 396 value 2\n",
            "index 414 value 2\n",
            "index 430 value 1\n",
            "index 465 value 2\n",
            "index 478 value 2\n",
            "index 553 value 2\n",
            "index 554 value 2\n",
            "index 597 value 1\n",
            "index 605 value 2\n",
            "index 669 value 2\n",
            "index 673 value 2\n",
            "index 678 value 2\n",
            "index 706 value 2\n",
            "index 714 value 2\n",
            "index 754 value 1\n",
            "index 771 value 1\n",
            "index 773 value 2\n",
            "index 775 value 1\n",
            "index 790 value 1\n",
            "index 795 value 2\n",
            "index 796 value 2\n",
            "index 807 value 2\n",
            "index 811 value 1\n",
            "index 824 value 2\n",
            "index 839 value 1\n",
            "index 844 value 1\n",
            "index 846 value 2\n",
            "index 855 value 2\n",
            "index 886 value 1\n",
            "index 889 value 2\n",
            "index 896 value 1\n",
            "index 916 value 1\n",
            "index 933 value 3\n",
            "index 944 value 1\n",
            "index 951 value 2\n",
            "index 964 value 2\n",
            "index 972 value 1\n",
            "index 974 value 1\n",
            "index 987 value 2\n",
            "index 999 value 2\n"
          ]
        }
      ]
    },
    {
      "cell_type": "code",
      "source": [
        "np.unique(Y_train_init)"
      ],
      "metadata": {
        "colab": {
          "base_uri": "https://localhost:8080/"
        },
        "id": "9hwGPEmqS_RN",
        "outputId": "1b1de62e-12bf-4602-8213-6fdb2e1d4f8d"
      },
      "execution_count": null,
      "outputs": [
        {
          "output_type": "execute_result",
          "data": {
            "text/plain": [
              "array([0., 1., 2., 3.])"
            ]
          },
          "metadata": {},
          "execution_count": 21
        }
      ]
    },
    {
      "cell_type": "code",
      "source": [
        "np.histogram(Y_train_init)"
      ],
      "metadata": {
        "colab": {
          "base_uri": "https://localhost:8080/"
        },
        "id": "BGC8T1miTtGQ",
        "outputId": "fbeebf39-4d2d-41eb-b6b3-ced9de0126d5"
      },
      "execution_count": null,
      "outputs": [
        {
          "output_type": "execute_result",
          "data": {
            "text/plain": [
              "(array([44571,     0,     0,  1299,     0,     0,  1930,     0,     0,\n",
              "          228]),\n",
              " array([0. , 0.3, 0.6, 0.9, 1.2, 1.5, 1.8, 2.1, 2.4, 2.7, 3. ]))"
            ]
          },
          "metadata": {},
          "execution_count": 22
        }
      ]
    },
    {
      "cell_type": "code",
      "execution_count": null,
      "metadata": {
        "colab": {
          "base_uri": "https://localhost:8080/"
        },
        "id": "SyaIQ3ntdZQ8",
        "outputId": "6db82914-345e-40aa-b243-19ad5a4cc214"
      },
      "outputs": [
        {
          "output_type": "execute_result",
          "data": {
            "text/plain": [
              "(12007,)"
            ]
          },
          "metadata": {},
          "execution_count": 28
        }
      ],
      "source": [
        "Y_test_init.shape"
      ]
    },
    {
      "cell_type": "code",
      "execution_count": null,
      "metadata": {
        "id": "UR_qjBTgqPGE"
      },
      "outputs": [],
      "source": [
        "wav_scale=64\n",
        "scale = range(1,wav_scale+1)\n",
        "fs = 128\n"
      ]
    },
    {
      "cell_type": "markdown",
      "metadata": {
        "id": "tFbInIHcSzap"
      },
      "source": [
        "**FFT AND IFFT**"
      ]
    },
    {
      "cell_type": "code",
      "execution_count": null,
      "metadata": {
        "id": "Kl5nHPzobFcB"
      },
      "outputs": [],
      "source": [
        "\n",
        "\n",
        "#create an array that stores the number of data point for each stage of the butterfly computation\n",
        "def fft_no_of_stages(FFT_int_stage,fs):\n",
        "    no_of_stages = 0\n",
        "    value=fs\n",
        "    while (value!=1):\n",
        "        value=value>>1\n",
        "        FFT_int_stage.append(value)\n",
        "        no_of_stages=no_of_stages+1\n",
        "\t\n",
        "    return no_of_stages\n",
        "\n",
        "#compute the bit reversal\n",
        "def bit_reversal(data_in,dit_inp,no_of_stages,fs,):\n",
        "    #no_of_stages=fft_no_of_stages(FFT_int_stage)\n",
        "    for j in range(0, fs):\n",
        "        reversed=0\n",
        "        for i in range(no_of_stages):\n",
        "            reversed|=((j>>i)&1)<<(no_of_stages-i-1)\n",
        "        \n",
        "        dit_inp[j]=data_in[reversed]\n",
        "        #dit_int.append(reversed)\n",
        "      \n",
        "\n",
        "#bit_reversal(dit_inp)\n",
        "\n",
        "#compute the twiddle factor\n",
        "def twiddle_factor(W,fs):\n",
        "    for i in range(0,int(fs/2)):\n",
        "        #print(2)\n",
        "        #W.append(np.cos(2 * np.pi *i/ fs) ,-np.sin(2 * np.pi *i/ fs))\n",
        "        W.append(complex(np.cos(2 * np.pi *i/ fs) ,-np.sin(2 * np.pi *i/ fs)))\n",
        "\n",
        "\n",
        "def FFT0(FFT_stage,pass_check,index_shift,pass_shift,data_IN,data_OUT,W,fs):\n",
        "    butterfly_span=0\n",
        "    butterfly_pass=0\n",
        "    for i in range(int(fs/2)):\n",
        "        index = butterfly_span << index_shift\n",
        "        Ulimit = butterfly_span + (butterfly_pass<<pass_shift)\n",
        "        Llimit = Ulimit + FFT_stage\n",
        "        Product = W[index] * data_IN[Llimit]\n",
        "        data_OUT[Llimit] = data_IN[Ulimit]-Product\n",
        "        data_OUT[Ulimit] = data_IN[Ulimit]+Product\n",
        "        if (butterfly_span<(FFT_stage-1)):\n",
        "            butterfly_span=butterfly_span+1\n",
        "        elif (butterfly_pass<(pass_check-1)):\n",
        "            butterfly_span = 0\n",
        "            butterfly_pass=butterfly_pass+1\n",
        "        else:\n",
        "            butterfly_span = 0\n",
        "            butterfly_pass=0\n",
        "\t\t\n",
        "        \n",
        "def fft(data_IN, fs):\n",
        "    \n",
        "    dit_inp=[]\n",
        "    FFT_int_stage=[]\n",
        "    W=[] #holds the twiddle factor\n",
        "    data_OUT0=np.array([0.0]*fs,dtype=complex)\n",
        "    data_OUT=np.array([0.0]*fs,dtype=complex)\n",
        "    \n",
        "    NO_STAGES=fft_no_of_stages(FFT_int_stage,fs)\n",
        "    bit_reversal(data_IN, data_OUT,NO_STAGES,fs)\n",
        "   \n",
        "    twiddle_factor(W,fs)\n",
        "    for i in range(0,NO_STAGES, 2):\n",
        "        FFT0(FFT_int_stage[NO_STAGES-(i+1)],FFT_int_stage[i],NO_STAGES-(i+1),i+1,data_OUT,data_OUT0,W,fs);\n",
        "        if(i+1<NO_STAGES):\n",
        "            FFT0(FFT_int_stage[NO_STAGES-(i+2)],FFT_int_stage[i+1],NO_STAGES-(i+2),i+2,data_OUT0,data_OUT,W,fs);\n",
        "\n",
        "    if (NO_STAGES%2==0):\n",
        "        return data_OUT\n",
        "    else:\n",
        "        return data_OUT0\n",
        "\n",
        " \n",
        "    \n",
        "\n",
        "\"\"\"-------------------------IFFT SECTION BEGINS HERE----------------------------------\"\"\"\n",
        "\n",
        "#compute the twiddle factor\n",
        "def twiddle_factor_ifft(W,fft_len):\n",
        "    for i in range(0,int(fft_len/2)):\n",
        "        #print(2)\n",
        "        #W.append(np.cos(2 * np.pi *i/ fft_len) ,-np.sin(2 * np.pi *i/ fft_len))\n",
        "        W.append(complex(np.cos(2 * np.pi *i/ fft_len) ,np.sin(2 * np.pi *i/ fft_len)))\n",
        "\n",
        "def ifft(data_INn,fft_len):    \n",
        "    dit_inp=[]\n",
        "    FFT_int_stage=[]\n",
        "    W=[] #holds the twiddle factor   \n",
        "    data_OUT0=np.array([0.0]*fft_len,dtype=complex)\n",
        "    data_OUT=np.array([0.0]*fft_len,dtype=complex)\n",
        "        \n",
        "    no_of_stages=fft_no_of_stages(FFT_int_stage,fft_len)\n",
        "    #bit_reversal(data_IN, data_OUT,FFT_int_stage)\n",
        "    bit_reversal(data_INn, data_OUT,no_of_stages,fft_len)\n",
        "   \n",
        "    twiddle_factor_ifft(W,fft_len)\n",
        "    for i in range(0,no_of_stages, 2):\n",
        "        FFT0(FFT_int_stage[no_of_stages-(i+1)],FFT_int_stage[i],no_of_stages-(i+1),i+1,data_OUT,data_OUT0,W,fft_len);\n",
        "        if(i+1<no_of_stages):\n",
        "            FFT0(FFT_int_stage[no_of_stages-(i+2)],FFT_int_stage[i+1],no_of_stages-(i+2),i+2,data_OUT0,data_OUT,W,fft_len);\n",
        "            \n",
        "    if (no_of_stages%2==0):\n",
        "        return data_OUT/fft_len\n",
        "    else:\n",
        "        return data_OUT0/fft_len\n",
        "\n"
      ]
    },
    {
      "cell_type": "markdown",
      "metadata": {
        "id": "bf4nfV-HknFp"
      },
      "source": [
        "CWT FUNCTION"
      ]
    },
    {
      "cell_type": "code",
      "execution_count": null,
      "metadata": {
        "id": "ghfQVobgC-lk"
      },
      "outputs": [],
      "source": [
        "\n",
        "def cwt(data, wavelet_name, sampling_frequency=1.):\n",
        "    \n",
        "    # Currently only supported for Morlet wavelets\n",
        "    if wavelet_name == 'morl':\n",
        "        #data -= np.mean(data)\n",
        "        n_orig = data.size\n",
        "        nv = 10\n",
        "        ds = 1 / nv\n",
        "        fs = sampling_frequency\n",
        "        dt = 1 / fs\n",
        "\n",
        "        # Pad data symmetrically\n",
        "        padvalue = n_orig // 2\n",
        "        x = np.concatenate((np.flipud(data[0:padvalue]), data, np.flipud(data[-padvalue:])))\n",
        "        n = x.size\n",
        "\n",
        "        # Define scales\n",
        "        _, _, wavscales = getDefaultScales(wavelet_name, n_orig, ds)\n",
        "        num_scales = wavscales.size\n",
        "\n",
        "        # Frequency vector sampling the Fourier transform of the wavelet\n",
        "        omega = np.arange(1, math.floor(n / 2) + 1, dtype=np.float64)\n",
        "        omega *= (2 * np.pi) / n\n",
        "        omega = np.concatenate((np.array([0]), omega, -omega[np.arange(math.floor((n - 1) / 2), 0, -1, dtype=int) - 1]))\n",
        "\n",
        "        # Compute FFT of the (padded) time series\n",
        "        #f = np.fft.fft(x)\n",
        "        f= fft(x,n)\n",
        "\n",
        "\n",
        "        # Loop through all the scales and compute wavelet Fourier transform\n",
        "        psift, freq = waveft(wavelet_name, omega, wavscales)\n",
        "\n",
        "        # Inverse transform to obtain the wavelet coefficients.        \n",
        "        #b=np.ones([num_scales, 1])\n",
        "        #kc=np.kron(b, f) \n",
        "        krp=np.kron(np.ones([num_scales, 1]), f) * psift\n",
        "        # Inverse transform to obtain the wavelet coefficients.\n",
        "        cwtcfs=np.array([[0.0]*krp.shape[1]]*krp.shape[0],dtype=complex)\n",
        "        for i in range(krp.shape[0]):\n",
        "           cwtcfs[i]= ifft(krp[i],n)\n",
        "        #cwtcfs = np.fft.ifft(np.kron(np.ones([num_scales, 1]), f) * psift)\n",
        "        cfs = cwtcfs[:, padvalue:padvalue + n_orig]\n",
        "        freq = freq * fs\n",
        "\n",
        "        return cfs, freq\n",
        "    else:\n",
        "        raise Exception\n",
        "\n",
        "\n",
        "def getDefaultScales(wavelet, n, ds):\n",
        "    \n",
        "    wname = wavelet\n",
        "    nv = 1 / ds\n",
        "\n",
        "    if wname == 'morl':\n",
        "\n",
        "        # Smallest useful scale (default 2 for Morlet)\n",
        "        s0 = 2\n",
        "\n",
        "        # Determine longest useful scale for wavelet\n",
        "        #max_scale = n // (np.sqrt(2) * s0)\n",
        "        max_scale=wav_scale\n",
        "        if max_scale <= 1:\n",
        "            max_scale = n // 2\n",
        "        max_scale = np.floor(nv * np.log2(max_scale))\n",
        "        a0 = 2 ** ds\n",
        "        scales = s0 * a0 ** np.arange(0, wav_scale )\n",
        "    else:\n",
        "        raise Exception\n",
        "\n",
        "    return s0, ds, scales\n",
        "\n",
        "\n",
        "def waveft(wavelet, omega, scales):\n",
        "    \n",
        "    wname = wavelet\n",
        "    num_freq = omega.size\n",
        "    num_scales = scales.size\n",
        "    wft = np.zeros([num_scales, num_freq])\n",
        "\n",
        "    if wname == 'morl':\n",
        "        gC = 6\n",
        "        mul = 2\n",
        "        for jj, scale in enumerate(scales):\n",
        "            expnt = -(scale * omega - gC) ** 2 / 2 * (omega > 0)\n",
        "            wft[jj, ] = mul * np.exp(expnt) * (omega > 0)\n",
        "\n",
        "        fourier_factor = gC / (2 * np.pi)\n",
        "        frequencies = fourier_factor / scales\n",
        "\n",
        "    else:\n",
        "        raise Exception\n",
        "\n",
        "    return wft, frequencies\n",
        "\n",
        "#fs = 1000\n",
        "#t = np.linspace(0, 1, fs+1)\n",
        "#x = np.cos(2*np.pi*32*t) * np.logical_and(t >= 0.1, t < 0.3) + np.sin(2*np.pi*64*t) * (t > 0.7)\n",
        "#wgnNoise = 0.05 * np.random.standard_normal(t.shape)\n",
        "#x += wgnNoise\n",
        "#c, f = cwt(x, 'morl', sampling_frequency=fs)\n"
      ]
    },
    {
      "cell_type": "code",
      "execution_count": null,
      "metadata": {
        "colab": {
          "base_uri": "https://localhost:8080/",
          "height": 1000
        },
        "id": "Mx0_nmTMH1Fz",
        "outputId": "85091f31-84fa-4f00-a776-e6607ac67709"
      },
      "outputs": [
        {
          "output_type": "stream",
          "name": "stdout",
          "text": [
            "here\n",
            "0\n",
            "here\n",
            "1\n"
          ]
        },
        {
          "output_type": "stream",
          "name": "stderr",
          "text": [
            "/usr/local/lib/python3.7/dist-packages/ipykernel_launcher.py:7: ComplexWarning: Casting complex values to real discards the imaginary part\n",
            "  import sys\n"
          ]
        },
        {
          "output_type": "stream",
          "name": "stdout",
          "text": [
            "here\n",
            "2\n",
            "here\n",
            "3\n",
            "here\n",
            "4\n",
            "here\n",
            "5\n",
            "here\n",
            "6\n",
            "here\n",
            "7\n",
            "here\n",
            "8\n",
            "here\n",
            "9\n",
            "here\n",
            "10\n",
            "here\n",
            "11\n",
            "here\n",
            "12\n",
            "here\n",
            "13\n",
            "here\n",
            "14\n",
            "here\n",
            "15\n",
            "here\n",
            "16\n",
            "here\n",
            "17\n",
            "here\n",
            "18\n",
            "here\n",
            "19\n",
            "here\n",
            "20\n",
            "here\n",
            "21\n",
            "here\n",
            "22\n",
            "here\n",
            "23\n",
            "here\n",
            "24\n",
            "here\n",
            "25\n",
            "here\n",
            "26\n",
            "here\n",
            "27\n",
            "here\n",
            "28\n",
            "here\n",
            "29\n",
            "here\n",
            "30\n",
            "here\n",
            "31\n",
            "here\n",
            "32\n",
            "here\n",
            "33\n",
            "here\n",
            "34\n",
            "here\n",
            "35\n",
            "here\n",
            "36\n",
            "here\n",
            "37\n",
            "here\n",
            "38\n",
            "here\n",
            "39\n",
            "here\n",
            "40\n",
            "here\n",
            "41\n",
            "here\n",
            "42\n",
            "here\n",
            "43\n",
            "here\n",
            "44\n",
            "here\n",
            "45\n",
            "here\n",
            "46\n",
            "here\n",
            "47\n",
            "here\n",
            "48\n",
            "here\n",
            "49\n",
            "here\n",
            "50\n",
            "here\n",
            "51\n",
            "here\n",
            "52\n",
            "here\n",
            "53\n",
            "here\n",
            "54\n",
            "here\n",
            "55\n",
            "here\n",
            "56\n",
            "here\n",
            "57\n",
            "here\n",
            "58\n",
            "here\n",
            "59\n",
            "here\n",
            "60\n",
            "here\n",
            "61\n",
            "here\n",
            "62\n",
            "here\n",
            "63\n",
            "here\n",
            "64\n",
            "here\n",
            "65\n",
            "here\n",
            "66\n",
            "here\n",
            "67\n",
            "here\n",
            "68\n",
            "here\n",
            "69\n",
            "here\n",
            "70\n",
            "here\n",
            "71\n",
            "here\n",
            "72\n",
            "here\n",
            "73\n",
            "here\n",
            "74\n",
            "here\n",
            "75\n",
            "here\n",
            "76\n",
            "here\n",
            "77\n",
            "here\n",
            "78\n",
            "here\n",
            "79\n",
            "here\n",
            "80\n",
            "here\n",
            "81\n",
            "here\n",
            "82\n",
            "here\n",
            "83\n",
            "here\n",
            "84\n",
            "here\n",
            "85\n",
            "here\n",
            "86\n",
            "here\n",
            "87\n",
            "here\n",
            "88\n",
            "here\n",
            "89\n",
            "here\n",
            "90\n",
            "here\n",
            "91\n",
            "here\n",
            "92\n",
            "here\n",
            "93\n",
            "here\n",
            "94\n",
            "here\n",
            "95\n",
            "here\n",
            "96\n",
            "here\n",
            "97\n",
            "here\n",
            "98\n",
            "here\n",
            "99\n",
            "here\n",
            "100\n",
            "here\n",
            "101\n",
            "here\n",
            "102\n",
            "here\n",
            "103\n",
            "here\n",
            "104\n",
            "here\n",
            "105\n",
            "here\n",
            "106\n",
            "here\n",
            "107\n",
            "here\n",
            "108\n",
            "here\n",
            "109\n",
            "here\n",
            "110\n",
            "here\n",
            "111\n",
            "here\n",
            "112\n",
            "here\n",
            "113\n",
            "here\n",
            "114\n",
            "here\n",
            "115\n",
            "here\n",
            "116\n",
            "here\n",
            "117\n",
            "here\n",
            "118\n",
            "here\n",
            "119\n",
            "here\n",
            "120\n",
            "here\n",
            "121\n",
            "here\n",
            "122\n",
            "here\n",
            "123\n",
            "here\n",
            "124\n",
            "here\n",
            "125\n",
            "here\n",
            "126\n",
            "here\n",
            "127\n",
            "here\n",
            "128\n",
            "here\n",
            "129\n",
            "here\n",
            "130\n",
            "here\n",
            "131\n",
            "here\n",
            "132\n",
            "here\n",
            "133\n",
            "here\n",
            "134\n",
            "here\n",
            "135\n",
            "here\n",
            "136\n",
            "here\n",
            "137\n",
            "here\n",
            "138\n",
            "here\n",
            "139\n",
            "here\n",
            "140\n",
            "here\n",
            "141\n",
            "here\n",
            "142\n",
            "here\n",
            "143\n",
            "here\n",
            "144\n",
            "here\n",
            "145\n",
            "here\n",
            "146\n",
            "here\n",
            "147\n",
            "here\n",
            "148\n",
            "here\n",
            "149\n",
            "here\n",
            "150\n",
            "here\n",
            "151\n",
            "here\n",
            "152\n",
            "here\n",
            "153\n",
            "here\n",
            "154\n",
            "here\n",
            "155\n",
            "here\n",
            "156\n",
            "here\n",
            "157\n",
            "here\n",
            "158\n",
            "here\n",
            "159\n",
            "here\n",
            "160\n",
            "here\n",
            "161\n",
            "here\n",
            "162\n",
            "here\n",
            "163\n",
            "here\n",
            "164\n",
            "here\n",
            "165\n",
            "here\n",
            "166\n",
            "here\n",
            "167\n",
            "here\n",
            "168\n",
            "here\n",
            "169\n",
            "here\n",
            "170\n",
            "here\n",
            "171\n",
            "here\n",
            "172\n",
            "here\n",
            "173\n"
          ]
        },
        {
          "output_type": "error",
          "ename": "KeyboardInterrupt",
          "evalue": "ignored",
          "traceback": [
            "\u001b[0;31m---------------------------------------------------------------------------\u001b[0m",
            "\u001b[0;31mKeyboardInterrupt\u001b[0m                         Traceback (most recent call last)",
            "\u001b[0;32m<ipython-input-15-47618d5cb722>\u001b[0m in \u001b[0;36m<module>\u001b[0;34m\u001b[0m\n\u001b[1;32m      5\u001b[0m     \u001b[0mprint\u001b[0m\u001b[0;34m(\u001b[0m\u001b[0;34m\"here\"\u001b[0m\u001b[0;34m)\u001b[0m\u001b[0;34m\u001b[0m\u001b[0;34m\u001b[0m\u001b[0m\n\u001b[1;32m      6\u001b[0m     \u001b[0mprint\u001b[0m\u001b[0;34m(\u001b[0m\u001b[0mi\u001b[0m\u001b[0;34m)\u001b[0m\u001b[0;34m\u001b[0m\u001b[0;34m\u001b[0m\u001b[0m\n\u001b[0;32m----> 7\u001b[0;31m     \u001b[0;34m[\u001b[0m\u001b[0mtrain_cwt_coeffs\u001b[0m\u001b[0;34m[\u001b[0m\u001b[0mi\u001b[0m\u001b[0;34m]\u001b[0m\u001b[0;34m,\u001b[0m \u001b[0m_\u001b[0m\u001b[0;34m]\u001b[0m \u001b[0;34m=\u001b[0m \u001b[0mcwt\u001b[0m\u001b[0;34m(\u001b[0m\u001b[0mX_train_resamp\u001b[0m\u001b[0;34m[\u001b[0m\u001b[0mi\u001b[0m\u001b[0;34m]\u001b[0m\u001b[0;34m,\u001b[0m \u001b[0;34m'morl'\u001b[0m\u001b[0;34m,\u001b[0m\u001b[0mfs\u001b[0m\u001b[0;34m)\u001b[0m\u001b[0;34m\u001b[0m\u001b[0;34m\u001b[0m\u001b[0m\n\u001b[0m\u001b[1;32m      8\u001b[0m \u001b[0;34m\u001b[0m\u001b[0m\n\u001b[1;32m      9\u001b[0m \u001b[0;34m\u001b[0m\u001b[0m\n",
            "\u001b[0;32m<ipython-input-14-d3d5a05f97ac>\u001b[0m in \u001b[0;36mcwt\u001b[0;34m(data, wavelet_name, sampling_frequency)\u001b[0m\n\u001b[1;32m     39\u001b[0m         \u001b[0mcwtcfs\u001b[0m\u001b[0;34m=\u001b[0m\u001b[0mnp\u001b[0m\u001b[0;34m.\u001b[0m\u001b[0marray\u001b[0m\u001b[0;34m(\u001b[0m\u001b[0;34m[\u001b[0m\u001b[0;34m[\u001b[0m\u001b[0;36m0.0\u001b[0m\u001b[0;34m]\u001b[0m\u001b[0;34m*\u001b[0m\u001b[0mkrp\u001b[0m\u001b[0;34m.\u001b[0m\u001b[0mshape\u001b[0m\u001b[0;34m[\u001b[0m\u001b[0;36m1\u001b[0m\u001b[0;34m]\u001b[0m\u001b[0;34m]\u001b[0m\u001b[0;34m*\u001b[0m\u001b[0mkrp\u001b[0m\u001b[0;34m.\u001b[0m\u001b[0mshape\u001b[0m\u001b[0;34m[\u001b[0m\u001b[0;36m0\u001b[0m\u001b[0;34m]\u001b[0m\u001b[0;34m,\u001b[0m\u001b[0mdtype\u001b[0m\u001b[0;34m=\u001b[0m\u001b[0mcomplex\u001b[0m\u001b[0;34m)\u001b[0m\u001b[0;34m\u001b[0m\u001b[0;34m\u001b[0m\u001b[0m\n\u001b[1;32m     40\u001b[0m         \u001b[0;32mfor\u001b[0m \u001b[0mi\u001b[0m \u001b[0;32min\u001b[0m \u001b[0mrange\u001b[0m\u001b[0;34m(\u001b[0m\u001b[0mkrp\u001b[0m\u001b[0;34m.\u001b[0m\u001b[0mshape\u001b[0m\u001b[0;34m[\u001b[0m\u001b[0;36m0\u001b[0m\u001b[0;34m]\u001b[0m\u001b[0;34m)\u001b[0m\u001b[0;34m:\u001b[0m\u001b[0;34m\u001b[0m\u001b[0;34m\u001b[0m\u001b[0m\n\u001b[0;32m---> 41\u001b[0;31m            \u001b[0mcwtcfs\u001b[0m\u001b[0;34m[\u001b[0m\u001b[0mi\u001b[0m\u001b[0;34m]\u001b[0m\u001b[0;34m=\u001b[0m \u001b[0mifft\u001b[0m\u001b[0;34m(\u001b[0m\u001b[0mkrp\u001b[0m\u001b[0;34m[\u001b[0m\u001b[0mi\u001b[0m\u001b[0;34m]\u001b[0m\u001b[0;34m,\u001b[0m\u001b[0mn\u001b[0m\u001b[0;34m)\u001b[0m\u001b[0;34m\u001b[0m\u001b[0;34m\u001b[0m\u001b[0m\n\u001b[0m\u001b[1;32m     42\u001b[0m         \u001b[0;31m#cwtcfs = np.fft.ifft(np.kron(np.ones([num_scales, 1]), f) * psift)\u001b[0m\u001b[0;34m\u001b[0m\u001b[0;34m\u001b[0m\u001b[0;34m\u001b[0m\u001b[0m\n\u001b[1;32m     43\u001b[0m         \u001b[0mcfs\u001b[0m \u001b[0;34m=\u001b[0m \u001b[0mcwtcfs\u001b[0m\u001b[0;34m[\u001b[0m\u001b[0;34m:\u001b[0m\u001b[0;34m,\u001b[0m \u001b[0mpadvalue\u001b[0m\u001b[0;34m:\u001b[0m\u001b[0mpadvalue\u001b[0m \u001b[0;34m+\u001b[0m \u001b[0mn_orig\u001b[0m\u001b[0;34m]\u001b[0m\u001b[0;34m\u001b[0m\u001b[0;34m\u001b[0m\u001b[0m\n",
            "\u001b[0;32m<ipython-input-13-5345c1900383>\u001b[0m in \u001b[0;36mifft\u001b[0;34m(data_INn, fft_len)\u001b[0m\n\u001b[1;32m     95\u001b[0m     \u001b[0mno_of_stages\u001b[0m\u001b[0;34m=\u001b[0m\u001b[0mfft_no_of_stages\u001b[0m\u001b[0;34m(\u001b[0m\u001b[0mFFT_int_stage\u001b[0m\u001b[0;34m,\u001b[0m\u001b[0mfft_len\u001b[0m\u001b[0;34m)\u001b[0m\u001b[0;34m\u001b[0m\u001b[0;34m\u001b[0m\u001b[0m\n\u001b[1;32m     96\u001b[0m     \u001b[0;31m#bit_reversal(data_IN, data_OUT,FFT_int_stage)\u001b[0m\u001b[0;34m\u001b[0m\u001b[0;34m\u001b[0m\u001b[0;34m\u001b[0m\u001b[0m\n\u001b[0;32m---> 97\u001b[0;31m     \u001b[0mbit_reversal\u001b[0m\u001b[0;34m(\u001b[0m\u001b[0mdata_INn\u001b[0m\u001b[0;34m,\u001b[0m \u001b[0mdata_OUT\u001b[0m\u001b[0;34m,\u001b[0m\u001b[0mno_of_stages\u001b[0m\u001b[0;34m,\u001b[0m\u001b[0mfft_len\u001b[0m\u001b[0;34m)\u001b[0m\u001b[0;34m\u001b[0m\u001b[0;34m\u001b[0m\u001b[0m\n\u001b[0m\u001b[1;32m     98\u001b[0m \u001b[0;34m\u001b[0m\u001b[0m\n\u001b[1;32m     99\u001b[0m     \u001b[0mtwiddle_factor_ifft\u001b[0m\u001b[0;34m(\u001b[0m\u001b[0mW\u001b[0m\u001b[0;34m,\u001b[0m\u001b[0mfft_len\u001b[0m\u001b[0;34m)\u001b[0m\u001b[0;34m\u001b[0m\u001b[0;34m\u001b[0m\u001b[0m\n",
            "\u001b[0;32m<ipython-input-13-5345c1900383>\u001b[0m in \u001b[0;36mbit_reversal\u001b[0;34m(data_in, dit_inp, no_of_stages, fs)\u001b[0m\n\u001b[1;32m     15\u001b[0m     \u001b[0;32mfor\u001b[0m \u001b[0mj\u001b[0m \u001b[0;32min\u001b[0m \u001b[0mrange\u001b[0m\u001b[0;34m(\u001b[0m\u001b[0;36m0\u001b[0m\u001b[0;34m,\u001b[0m \u001b[0mfs\u001b[0m\u001b[0;34m)\u001b[0m\u001b[0;34m:\u001b[0m\u001b[0;34m\u001b[0m\u001b[0;34m\u001b[0m\u001b[0m\n\u001b[1;32m     16\u001b[0m         \u001b[0mreversed\u001b[0m\u001b[0;34m=\u001b[0m\u001b[0;36m0\u001b[0m\u001b[0;34m\u001b[0m\u001b[0;34m\u001b[0m\u001b[0m\n\u001b[0;32m---> 17\u001b[0;31m         \u001b[0;32mfor\u001b[0m \u001b[0mi\u001b[0m \u001b[0;32min\u001b[0m \u001b[0mrange\u001b[0m\u001b[0;34m(\u001b[0m\u001b[0mno_of_stages\u001b[0m\u001b[0;34m)\u001b[0m\u001b[0;34m:\u001b[0m\u001b[0;34m\u001b[0m\u001b[0;34m\u001b[0m\u001b[0m\n\u001b[0m\u001b[1;32m     18\u001b[0m             \u001b[0mreversed\u001b[0m\u001b[0;34m|=\u001b[0m\u001b[0;34m(\u001b[0m\u001b[0;34m(\u001b[0m\u001b[0mj\u001b[0m\u001b[0;34m>>\u001b[0m\u001b[0mi\u001b[0m\u001b[0;34m)\u001b[0m\u001b[0;34m&\u001b[0m\u001b[0;36m1\u001b[0m\u001b[0;34m)\u001b[0m\u001b[0;34m<<\u001b[0m\u001b[0;34m(\u001b[0m\u001b[0mno_of_stages\u001b[0m\u001b[0;34m-\u001b[0m\u001b[0mi\u001b[0m\u001b[0;34m-\u001b[0m\u001b[0;36m1\u001b[0m\u001b[0;34m)\u001b[0m\u001b[0;34m\u001b[0m\u001b[0;34m\u001b[0m\u001b[0m\n\u001b[1;32m     19\u001b[0m \u001b[0;34m\u001b[0m\u001b[0m\n",
            "\u001b[0;31mKeyboardInterrupt\u001b[0m: "
          ]
        }
      ],
      "source": [
        "\n",
        "train_cwt_coeffs = np.zeros((len(X_train_resamp),len(scale),fs))\n",
        "#train_cwt_coeffs, freqs = pywt.cwt(X_train, scale, 'morl')\n",
        "for i in range(len(X_train_resamp)):\n",
        "    #[train_cwt_coeffs[i], freqs] = pywt.cwt(X_train_resamp[i], scale, 'morl')\n",
        "    print(\"here\")\n",
        "    print(i)\n",
        "    [train_cwt_coeffs[i], _] = cwt(X_train_resamp[i], 'morl',fs)\n",
        "\n",
        "\n",
        "test_cwt_coeffs = np.zeros((len(X_test_resamp),len(scale),fs))\n",
        "#train_cwt_coeffs, freqs = pywt.cwt(X_train, scale, 'morl')\n",
        "for i in range(len(X_test_resamp)):\n",
        "    #[test_cwt_coeffs[i], freqs] = pywt.cwt(X_test_resamp[i], scale, 'morl')\n",
        "    [test_cwt_coeffs[i], _] = cwt(X_test_resamp[i], 'morl',fs)\n",
        "\n",
        "del X_train_resamp\n",
        "del X_test_resamp"
      ]
    },
    {
      "cell_type": "code",
      "source": [
        "np.savetxt(\"cwt_val_12.txt\",train_cwt_coeffs[12],delimiter=\",\",fmt='%.5f')"
      ],
      "metadata": {
        "id": "exi8-ZU4M3Lt"
      },
      "execution_count": null,
      "outputs": []
    },
    {
      "cell_type": "code",
      "execution_count": null,
      "metadata": {
        "id": "40YulNsCqMwg",
        "colab": {
          "base_uri": "https://localhost:8080/"
        },
        "outputId": "e27cca76-fa8d-4f0e-8b02-c8968534a54b"
      },
      "outputs": [
        {
          "output_type": "execute_result",
          "data": {
            "text/plain": [
              "(64, 128)"
            ]
          },
          "metadata": {},
          "execution_count": 19
        }
      ],
      "source": [
        "train_cwt_coeffs[1].shape"
      ]
    },
    {
      "cell_type": "code",
      "source": [
        "for i in range(1000):\n",
        "  if(Y_test_init[i]!=0.0):\n",
        "    print(\"index %d value %d\"%(i,Y_test_init[i] ))"
      ],
      "metadata": {
        "id": "P3Ku7_kEdGzF"
      },
      "execution_count": null,
      "outputs": []
    },
    {
      "cell_type": "code",
      "execution_count": null,
      "metadata": {
        "id": "ElSXF49CH1Fz"
      },
      "outputs": [],
      "source": [
        "def get_model():\n",
        "    nclass = 4\n",
        "    inp = tf.keras.layers.Input(shape=(32, 256, 1))\n",
        "    img_1 = Conv2D(16,3, activation=tf.keras.activations.relu, padding=\"same\")(inp)\n",
        "    img_1 = MaxPool2D(pool_size=(2,2))(img_1)\n",
        "    img_1 = Conv2D(32,3, activation=tf.keras.activations.relu, padding=\"same\")(img_1)\n",
        "    img_1 = MaxPool2D(pool_size=(2,2))(img_1)\n",
        "    img_1 = Dropout(rate=0.2)(img_1)\n",
        "    img_1 = Flatten()(img_1)\n",
        "    dense_1 = Dense(16, activation=tf.keras.activations.relu, name=\"dense_1\")(img_1)\n",
        "    dense_1 = Dense(8, activation=tf.keras.activations.relu, name=\"dense_2\")(dense_1)\n",
        "    dense_1 = Dense(nclass, activation=tf.keras.activations.softmax, name=\"dense_3_mitbih\")(dense_1)\n",
        "\n",
        "    model = tf.keras.models.Model(inputs=inp, outputs=dense_1)\n",
        "    opt = tf.keras.optimizers.Adam(0.001)\n",
        "    #opt = optimizers.Adam(0.001)\n",
        "\n",
        "    model.compile(optimizer=opt, loss=tf.keras.losses.sparse_categorical_crossentropy, metrics=['acc'])\n",
        "    #model.compile(optimizer=opt, loss=tf.keras.losses.categorical_crossentropy, metrics=['acc'])\n",
        "    model.summary()\n",
        "    return model"
      ]
    },
    {
      "cell_type": "code",
      "execution_count": null,
      "metadata": {
        "id": "K0caJO_qH1Fz"
      },
      "outputs": [],
      "source": [
        "model = get_model()\n",
        "file_path = \"ECG_mitbih.h5\"\n",
        "checkpoint = tf.keras.callbacks.ModelCheckpoint(file_path, monitor='val_acc', verbose=1, save_best_only=True, mode='max')\n",
        "early = tf.keras.callbacks.EarlyStopping(monitor=\"val_acc\", mode=\"max\", patience=5, verbose=1)\n",
        "redonplat = tf.keras.callbacks.ReduceLROnPlateau(monitor=\"val_acc\", mode=\"max\", patience=3, verbose=2)\n",
        "callbacks_list = [checkpoint, early, redonplat]  # early\n",
        "\n",
        "model.fit(train_cwt_coeffs, Y_train_init, epochs=25, verbose=1, callbacks=callbacks_list, validation_split=0.1)\n",
        "#model.load_weights(file_path)\n",
        "\n",
        "pred_test = model.predict(test_cwt_coeffs)\n",
        "pred_test = np.argmax(pred_test, axis=-1)\n",
        "\n",
        "f1 = f1_score(Y_test_init, pred_test, average=\"macro\")\n",
        "\n",
        "print(\"Test f1 score : %s \"% f1)\n",
        "\n",
        "acc = accuracy_score(Y_test_init, pred_test)\n",
        "\n",
        "print(\"Test accuracy score : %s \"% acc)\n",
        "\n",
        "cm = confusion_matrix(Y_test_init, pred_test)\n",
        "cm = cm / np.sum(cm,axis=0)"
      ]
    },
    {
      "cell_type": "code",
      "execution_count": null,
      "metadata": {
        "id": "JPVdWemnSDVY"
      },
      "outputs": [],
      "source": [
        "MODEL_DIR = 'intmodel/'\n",
        "MODEL_TFLITE = MODEL_DIR + 'vgint8model.tflite'"
      ]
    },
    {
      "cell_type": "code",
      "execution_count": null,
      "metadata": {
        "id": "sBKaMCG6SE8j"
      },
      "outputs": [],
      "source": [
        "model.save('intmodel/model.h5')\n",
        "model.save('intmodel/model')"
      ]
    },
    {
      "cell_type": "code",
      "execution_count": null,
      "metadata": {
        "id": "hngWJneXnhUl"
      },
      "outputs": [],
      "source": [
        "train_cwt_coeffs[0].shape"
      ]
    },
    {
      "cell_type": "code",
      "execution_count": null,
      "metadata": {
        "id": "4xJf7_fyuBXc"
      },
      "outputs": [],
      "source": [
        "model.summary()"
      ]
    },
    {
      "cell_type": "code",
      "execution_count": null,
      "metadata": {
        "id": "n_m2BmO_uKQB"
      },
      "outputs": [],
      "source": [
        "train_cwt_coeffs[0].dtype"
      ]
    },
    {
      "cell_type": "code",
      "execution_count": null,
      "metadata": {
        "id": "sXP8D-k2SMA6"
      },
      "outputs": [],
      "source": [
        "import tensorflow as tf\n",
        "# Convert the model to the TensorFlow Lite format with quantization\n",
        "converter = tf.lite.TFLiteConverter.from_saved_model('intmodel/model')\n",
        "# Set the optimization flag.\n",
        "converter.optimizations = [tf.lite.Optimize.DEFAULT]\n",
        "\n",
        "# Enforce integer only quantization\n",
        "#converter.target_spec.supported_ops = [tf.lite.OpsSet.TFLITE_BUILTINS_INT8]\n",
        "#converter.target_spec.supported_ops = tf.float32\n",
        "converter.inference_input_type = tf.float32\n",
        "converter.inference_output_type = tf.float32\n",
        "# Provide a representative dataset to ensure we quantize correctly.\n",
        "def representative_dataset():\n",
        "    for i in range(500):\n",
        "        yield([np.float32(train_cwt_coeffs[i]).reshape(1, 32,256,1)])\n",
        "\n",
        "\n",
        "converter.representative_dataset = representative_dataset\n",
        "model_tflite = converter.convert()\n",
        "\n",
        "# Save the model to disk\n",
        "open(MODEL_TFLITE, \"wb\").write(model_tflite)"
      ]
    },
    {
      "cell_type": "code",
      "execution_count": null,
      "metadata": {
        "id": "4C7nMnfsSNZN"
      },
      "outputs": [],
      "source": []
    }
  ],
  "metadata": {
    "colab": {
      "provenance": [],
      "include_colab_link": true
    },
    "kernelspec": {
      "display_name": "Python 3",
      "language": "python",
      "name": "python3"
    },
    "language_info": {
      "codemirror_mode": {
        "name": "ipython",
        "version": 3
      },
      "file_extension": ".py",
      "mimetype": "text/x-python",
      "name": "python",
      "nbconvert_exporter": "python",
      "pygments_lexer": "ipython3",
      "version": "3.7.6"
    }
  },
  "nbformat": 4,
  "nbformat_minor": 0
}